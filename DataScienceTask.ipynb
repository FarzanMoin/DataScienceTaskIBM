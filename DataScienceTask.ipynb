{
 "cells": [
  {
   "cell_type": "markdown",
   "id": "f459668b",
   "metadata": {},
   "source": [
    "# DataScienceEcoSystem\n",
    "\n",
    "\n",
    "\n",
    "\n",
    "\n"
   ]
  },
  {
   "cell_type": "markdown",
   "id": "65312b85",
   "metadata": {},
   "source": [
    "# In this notebook, Data Science Tools and Ecosystem are summarized.\n",
    "\n"
   ]
  },
  {
   "cell_type": "markdown",
   "id": "bbc95c8c",
   "metadata": {},
   "source": [
    "### **Objectives:**\n",
    "+ Data Science Languages\n",
    "+ Data Science Libraries\n",
    "+ Data Science Tools\n",
    "+ Artithmetic in Python Code\n",
    "\n"
   ]
  },
  {
   "cell_type": "markdown",
   "id": "1a0d7e0e",
   "metadata": {},
   "source": [
    "#### Some of the popular languages that Data Scientists use are:\n",
    "1. Python\n",
    "2. Julia\n",
    "3. C++\n",
    "4. Java\n",
    "5. R"
   ]
  },
  {
   "cell_type": "markdown",
   "id": "2eae26ab",
   "metadata": {},
   "source": [
    "#### Some of the commonly used libraries used by Data Scientists include:\n",
    "1. NumPy\n",
    "2. Pandas\n",
    "3. Scikitlearn\n",
    "4. ggplot2\n",
    "5. seaborn"
   ]
  },
  {
   "cell_type": "markdown",
   "id": "e6356d5b",
   "metadata": {},
   "source": [
    "|          Data Science Tools           |\n",
    "|---------------------------------------|\n",
    "|       1. Anaconda                     |\n",
    "|       2. Git / Github / Gitlab        |\n",
    "|       3. Apache Airflow               |\n",
    "\n"
   ]
  },
  {
   "cell_type": "markdown",
   "id": "dd9e6ed9",
   "metadata": {},
   "source": [
    "### Below are a few examples of evaluating arithmetic expressions in Python"
   ]
  },
  {
   "cell_type": "code",
   "execution_count": 2,
   "id": "5dfde4f0",
   "metadata": {},
   "outputs": [
    {
     "data": {
      "text/plain": [
       "17"
      ]
     },
     "execution_count": 2,
     "metadata": {},
     "output_type": "execute_result"
    }
   ],
   "source": [
    "(3*4)+5\n",
    "# This a simple arithmetic expression to mutiply then add integers\n"
   ]
  },
  {
   "cell_type": "code",
   "execution_count": 3,
   "id": "7bac9536",
   "metadata": {},
   "outputs": [
    {
     "data": {
      "text/plain": [
       "3.3333333333333335"
      ]
     },
     "execution_count": 3,
     "metadata": {},
     "output_type": "execute_result"
    }
   ],
   "source": [
    "(200/60)\n",
    "#This will convert 2000 minutes to hours by dividing by 60\n"
   ]
  },
  {
   "cell_type": "markdown",
   "id": "bc6b6078",
   "metadata": {},
   "source": [
    "## Author\n",
    "Farzan\n"
   ]
  },
  {
   "cell_type": "code",
   "execution_count": null,
   "id": "d9dd97d7",
   "metadata": {},
   "outputs": [],
   "source": []
  }
 ],
 "metadata": {
  "kernelspec": {
   "display_name": "Python 3",
   "language": "python",
   "name": "python3"
  },
  "language_info": {
   "codemirror_mode": {
    "name": "ipython",
    "version": 3
   },
   "file_extension": ".py",
   "mimetype": "text/x-python",
   "name": "python",
   "nbconvert_exporter": "python",
   "pygments_lexer": "ipython3",
   "version": "3.8.8"
  }
 },
 "nbformat": 4,
 "nbformat_minor": 5
}
